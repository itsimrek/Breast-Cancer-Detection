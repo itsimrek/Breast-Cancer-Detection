{
  "nbformat": 4,
  "nbformat_minor": 0,
  "metadata": {
    "colab": {
      "name": "Breast Cancer Detection.ipynb",
      "provenance": [],
      "collapsed_sections": []
    },
    "kernelspec": {
      "name": "python3",
      "display_name": "Python 3"
    }
  },
  "cells": [
    {
      "cell_type": "code",
      "metadata": {
        "id": "i_gU0pMfldff"
      },
      "source": [
        "import numpy as np\r\n",
        "import pandas as pd\r\n",
        "import matplotlib.pyplot as plt "
      ],
      "execution_count": 148,
      "outputs": []
    },
    {
      "cell_type": "markdown",
      "metadata": {
        "id": "Cn8IQ1TgnC69"
      },
      "source": [
        "**READ THE DATA**"
      ]
    },
    {
      "cell_type": "code",
      "metadata": {
        "id": "DPnkB1p8nIs9"
      },
      "source": [
        "# dataset is taken from UCI Machine Learning Repository\r\n",
        "dataset = pd.read_csv(\"breast-cancer-wisconsin.csv\") #699 instances with 11 attributes \r\n",
        "dataset[\"intercept\"] = 1  # include the intercept term\r\n",
        "dataset = dataset.drop(columns=\"Code_number\")"
      ],
      "execution_count": null,
      "outputs": []
    },
    {
      "cell_type": "markdown",
      "metadata": {
        "id": "0hX6jb6LI4nl"
      },
      "source": [
        "**FILL MISSING VALUES IN DATASET**"
      ]
    },
    {
      "cell_type": "code",
      "metadata": {
        "id": "wB4tlqHTI7hj"
      },
      "source": [
        " for m in dataset[\"Bare_Nuclei\"]:\r\n",
        "    if m == \"?\":\r\n",
        "     dataset[\"Bare_Nuclei\"] = dataset[\"Bare_Nuclei\"].replace(\"?\", 0)\r\n",
        "     dataset.fillna(dataset.mean())\r\n",
        "    else:\r\n",
        "      dataset[\"Bare_Nuclei\"]  = dataset[\"Bare_Nuclei\"].replace(m, int(m))"
      ],
      "execution_count": 143,
      "outputs": []
    },
    {
      "cell_type": "markdown",
      "metadata": {
        "id": "rilUiRoCx0jY"
      },
      "source": [
        "**SPLIT THE DATA INTO TRAINING AND TEST SETS**"
      ]
    },
    {
      "cell_type": "code",
      "metadata": {
        "id": "de4fDYw1x0NT"
      },
      "source": [
        "training_set, test_set = dataset.sample(frac=0.8), dataset.sample(frac=0.2)"
      ],
      "execution_count": 144,
      "outputs": []
    },
    {
      "cell_type": "markdown",
      "metadata": {
        "id": "C5ITPMwjpT2-"
      },
      "source": [
        "**DATA PREPROCESSING | CREATE MATRICES FROM DATA**"
      ]
    },
    {
      "cell_type": "code",
      "metadata": {
        "id": "GALb9HHApbQs"
      },
      "source": [
        "def create_matrices(dataset, output_name):\r\n",
        "  dataset_features = dataset.drop(columns=output_name) # get only the feature columns\r\n",
        "  feature_list = dataset_features.columns.values\r\n",
        "  feature_matrix, output_matrix  = np.array(dataset.loc[:, feature_list]), np.array(dataset.loc[:,output_name]).reshape((len(dataset.loc[:,output_name]), 1))\r\n",
        "  return feature_matrix, output_matrix"
      ],
      "execution_count": 145,
      "outputs": []
    },
    {
      "cell_type": "code",
      "metadata": {
        "id": "73WGsQ5Oz5OQ"
      },
      "source": [
        "feature_matrix_training, output_matrix_training = create_matrices(training_set, \"Class\")\r\n",
        "print(feature_matrix_training.shape) #  559 x 10\r\n",
        "print(output_matrix_training.shape) # 559 x 1\r\n",
        "\r\n",
        "feature_matrix_test, output_matrix_test = create_matrices(test_set, \"Class\")\r\n",
        "print(feature_matrix_test.shape) # 140 x 10\r\n",
        "print(output_matrix_test.shape) # 140 x 1"
      ],
      "execution_count": null,
      "outputs": []
    },
    {
      "cell_type": "markdown",
      "metadata": {
        "id": "uqR1UQrSv0AY"
      },
      "source": [
        "**SIGMOID (LOGISTIC) FUNCTION**"
      ]
    },
    {
      "cell_type": "code",
      "metadata": {
        "id": "HV-7kjDmuSuL"
      },
      "source": [
        "def logistic_function(value):\r\n",
        "  return  1/ (1 + np.exp(- 0.005 * np.array(value)))"
      ],
      "execution_count": 153,
      "outputs": []
    },
    {
      "cell_type": "markdown",
      "metadata": {
        "id": "48AQPXg55UIN"
      },
      "source": [
        "**DERIVATIVE OF SIGMOID FUNCTION**"
      ]
    },
    {
      "cell_type": "code",
      "metadata": {
        "id": "I2eP2B515YM9"
      },
      "source": [
        "def sigmoid_derivative(value):\r\n",
        "  return 0.005 * logistic_function(value) * (1 - logistic_function(value))"
      ],
      "execution_count": 154,
      "outputs": []
    },
    {
      "cell_type": "markdown",
      "metadata": {
        "id": "sRLYglUy1-Ex"
      },
      "source": [
        "**PREDICT PROBABILITY**"
      ]
    },
    {
      "cell_type": "code",
      "metadata": {
        "id": "oaEo3pfE2AyP"
      },
      "source": [
        "def predict_probability(feature_matrix, coefficients):\r\n",
        "    score = np.dot(feature_matrix, coefficients)\r\n",
        "    return logistic_function(score)"
      ],
      "execution_count": 24,
      "outputs": []
    },
    {
      "cell_type": "markdown",
      "metadata": {
        "id": "ajknQmaG8VZA"
      },
      "source": [
        "**RUN ON TEST SET AND CALCULATE ACCURACY BASED ON LEARNT COEFFICIENTS**"
      ]
    },
    {
      "cell_type": "code",
      "metadata": {
        "id": "vaAsMChn7UAm"
      },
      "source": [
        "def accuracy_function(test_features, test_outputs, coefficients):\r\n",
        "    correct_prediction = 0\r\n",
        "    test_prediction = 0\r\n",
        "    test_predictions = []\r\n",
        "    score  = np.dot(test_features, coefficients)\r\n",
        "    for row in score:\r\n",
        "        for i in row:\r\n",
        "            if i > 0.5:\r\n",
        "                test_prediction = 1\r\n",
        "            else:\r\n",
        "                test_prediction = 0\r\n",
        "        test_predictions.append(test_prediction)\r\n",
        "    for predicted_value, output in zip(test_predictions, test_outputs):\r\n",
        "        if predicted_value == output:\r\n",
        "           correct_prediction += 1\r\n",
        "    accuracy = correct_prediction/ float(len(test_features))\r\n",
        "    return accuracy"
      ],
      "execution_count": 124,
      "outputs": []
    },
    {
      "cell_type": "markdown",
      "metadata": {
        "id": "WSfz76wS4N6N"
      },
      "source": [
        "**GRADIENT ASCENT**"
      ]
    },
    {
      "cell_type": "code",
      "metadata": {
        "id": "Yp9Mriw94Nt_"
      },
      "source": [
        "def logistic_regression_gradient(coefficients, feature_matrix, output_matrix, test_feature_matrix, test_output_matrix, iteration_count=2500):\r\n",
        "  accuracy_array = []\r\n",
        "  loss_array = []\r\n",
        "  coefficients = np.array(coefficients) # make sure it is a numpy array \r\n",
        "  for i in range(iteration_count):\r\n",
        "    prediction = predict_probability(feature_matrix, coefficients) \r\n",
        "    error = output_matrix - prediction \r\n",
        "    # tuning parameter \r\n",
        "    tuning = error * sigmoid_derivative(prediction) \r\n",
        "    coefficients += np.dot(np.transpose(feature_matrix), tuning)\r\n",
        "    accuracy_array.append(accuracy_function(test_feature_matrix, test_output_matrix, coefficients)) # at each update see how loss and accuracy is changing on test set\r\n",
        "    loss_array.append(error.mean())\r\n",
        "  return coefficients, accuracy_array, loss_array"
      ],
      "execution_count": 157,
      "outputs": []
    },
    {
      "cell_type": "markdown",
      "metadata": {
        "id": "BOwjd0yZ9FCZ"
      },
      "source": [
        "**PLOT LOSS AND ACCURACY**"
      ]
    },
    {
      "cell_type": "code",
      "metadata": {
        "id": "FCX4p8SN9LVo"
      },
      "source": [
        "def plot_loss_accuracy(accuracy_array, loss_array):\r\n",
        "    fig, axs = plt.subplots(2, 1)\r\n",
        "    axs[0].set_title(\"PLOTTING LOSS AND ACCURACY CHANGE\", color=\"green\")\r\n",
        "    axs[0].plot(range(len(accuracy_array)), accuracy_array, color=\"orange\")\r\n",
        "    axs[0].set_xlabel(\"ITERATION COUNT\", color=\"red\")\r\n",
        "    axs[0].set_ylabel(\"ACCURACY\", color=\"blue\", rotation=90)\r\n",
        "    axs[1].plot(range(len(loss_array)), loss_array, color=\"purple\")\r\n",
        "    axs[1].set_xlabel(\"ITERATION COUNT\", color=\"red\")\r\n",
        "    axs[1].set_ylabel(\"LOSS\", color=\"blue\", rotation=90)\r\n",
        "    plt.show()"
      ],
      "execution_count": 127,
      "outputs": []
    },
    {
      "cell_type": "markdown",
      "metadata": {
        "id": "4pxXY-3T9ZHG"
      },
      "source": [
        "**MODEL**"
      ]
    },
    {
      "cell_type": "code",
      "metadata": {
        "colab": {
          "base_uri": "https://localhost:8080/",
          "height": 465
        },
        "id": "a8pTkou69bQ5",
        "outputId": "10e389e3-8f9b-4b21-af1c-379c391e9fa1"
      },
      "source": [
        "initialize_coefficients =  np.random.random((10, 1)) \r\n",
        "coefficients, accuracy, loss = logistic_regression_gradient(initialize_coefficients, feature_matrix_training, output_matrix_training, feature_matrix_test, output_matrix_test )\r\n",
        "plot_loss_accuracy(accuracy, loss)\r\n",
        "print(coefficients)"
      ],
      "execution_count": 158,
      "outputs": [
        {
          "output_type": "display_data",
          "data": {
            "image/png": "[encoded data removed]",
            "text/plain": [
              "<Figure size 432x288 with 2 Axes>"
            ]
          },
          "metadata": {
            "tags": [],
            "needs_background": "light"
          }
        },
        {
          "output_type": "stream",
          "text": [
            "[[ -35.81560862]\n",
            " [ 103.81695619]\n",
            " [  39.40511046]\n",
            " [  18.90400582]\n",
            " [ -94.15830047]\n",
            " [  83.12647825]\n",
            " [ -53.07436321]\n",
            " [  44.76093768]\n",
            " [ -28.14986859]\n",
            " [-218.03059672]]\n"
          ],
          "name": "stdout"
        }
      ]
    }
  ]
}